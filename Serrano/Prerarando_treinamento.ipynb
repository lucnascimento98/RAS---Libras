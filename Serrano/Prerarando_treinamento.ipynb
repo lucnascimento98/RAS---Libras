{
 "metadata": {
  "language_info": {
   "codemirror_mode": {
    "name": "ipython",
    "version": 3
   },
   "file_extension": ".py",
   "mimetype": "text/x-python",
   "name": "python",
   "nbconvert_exporter": "python",
   "pygments_lexer": "ipython3",
   "version": "3.8.5-final"
  },
  "orig_nbformat": 2,
  "kernelspec": {
   "name": "Python 3.8.5 64-bit",
   "display_name": "Python 3.8.5 64-bit",
   "metadata": {
    "interpreter": {
     "hash": "cb493916db9ca62219d4091c22f4f5d93322db264ff32299b4ab50c45f1c9e31"
    }
   }
  }
 },
 "nbformat": 4,
 "nbformat_minor": 2,
 "cells": [
  {
   "cell_type": "code",
   "execution_count": 15,
   "metadata": {},
   "outputs": [],
   "source": [
    "import numpy as np\n",
    "import matplotlib.pyplot as plt\n",
    "import os\n",
    "import cv2"
   ]
  },
  {
   "cell_type": "code",
   "execution_count": 16,
   "metadata": {},
   "outputs": [],
   "source": [
    "DATADIR = \"training\" #Onde estão sendo armazenados os arquivos\n",
    "CATEGORIES = [\"A\",\"B\"] #Possibilidades de estudo"
   ]
  },
  {
   "cell_type": "code",
   "execution_count": 20,
   "metadata": {},
   "outputs": [
    {
     "output_type": "display_data",
     "data": {
      "text/plain": "<Figure size 432x288 with 1 Axes>",
      "image/svg+xml": "<?xml version=\"1.0\" encoding=\"utf-8\" standalone=\"no\"?>\r\n<!DOCTYPE svg PUBLIC \"-//W3C//DTD SVG 1.1//EN\"\r\n  \"http://www.w3.org/Graphics/SVG/1.1/DTD/svg11.dtd\">\r\n<!-- Created with matplotlib (https://matplotlib.org/) -->\r\n<svg height=\"250.618594pt\" version=\"1.1\" viewBox=\"0 0 251.565 250.618594\" width=\"251.565pt\" xmlns=\"http://www.w3.org/2000/svg\" xmlns:xlink=\"http://www.w3.org/1999/xlink\">\r\n <metadata>\r\n  <rdf:RDF xmlns:cc=\"http://creativecommons.org/ns#\" xmlns:dc=\"http://purl.org/dc/elements/1.1/\" xmlns:rdf=\"http://www.w3.org/1999/02/22-rdf-syntax-ns#\">\r\n   <cc:Work>\r\n    <dc:type rdf:resource=\"http://purl.org/dc/dcmitype/StillImage\"/>\r\n    <dc:date>2020-10-13T20:02:10.636358</dc:date>\r\n    <dc:format>image/svg+xml</dc:format>\r\n    <dc:creator>\r\n     <cc:Agent>\r\n      <dc:title>Matplotlib v3.3.1, https://matplotlib.org/</dc:title>\r\n     </cc:Agent>\r\n    </dc:creator>\r\n   </cc:Work>\r\n  </rdf:RDF>\r\n </metadata>\r\n <defs>\r\n  <style type=\"text/css\">*{stroke-linecap:butt;stroke-linejoin:round;}</style>\r\n </defs>\r\n <g id=\"figure_1\">\r\n  <g id=\"patch_1\">\r\n   <path d=\"M 0 250.618594 \r\nL 251.565 250.618594 \r\nL 251.565 0 \r\nL 0 0 \r\nz\r\n\" style=\"fill:none;\"/>\r\n  </g>\r\n  <g id=\"axes_1\">\r\n   <g id=\"patch_2\">\r\n    <path d=\"M 26.925 226.740469 \r\nL 244.365 226.740469 \r\nL 244.365 9.300469 \r\nL 26.925 9.300469 \r\nz\r\n\" style=\"fill:#ffffff;\"/>\r\n   </g>\r\n   <g clip-path=\"url(#pf357c16b39)\">\r\n    <image height=\"218\" id=\"imageeadf699891\" transform=\"scale(1 -1)translate(0 -218)\" width=\"218\" x=\"26.925\" xlink:href=\"data:image/png;base64,\r\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\" y=\"-8.740469\"/>\r\n   </g>\r\n   <g id=\"matplotlib.axis_1\">\r\n    <g id=\"xtick_1\">\r\n     <g id=\"line2d_1\">\r\n      <defs>\r\n       <path d=\"M 0 0 \r\nL 0 3.5 \r\n\" id=\"m923d89749c\" style=\"stroke:#000000;stroke-width:0.8;\"/>\r\n      </defs>\r\n      <g>\r\n       <use style=\"stroke:#000000;stroke-width:0.8;\" x=\"28.62375\" xlink:href=\"#m923d89749c\" y=\"226.740469\"/>\r\n      </g>\r\n     </g>\r\n     <g id=\"text_1\">\r\n      <!-- 0 -->\r\n      <g transform=\"translate(25.4425 241.338906)scale(0.1 -0.1)\">\r\n       <defs>\r\n        <path d=\"M 31.78125 66.40625 \r\nQ 24.171875 66.40625 20.328125 58.90625 \r\nQ 16.5 51.421875 16.5 36.375 \r\nQ 16.5 21.390625 20.328125 13.890625 \r\nQ 24.171875 6.390625 31.78125 6.390625 \r\nQ 39.453125 6.390625 43.28125 13.890625 \r\nQ 47.125 21.390625 47.125 36.375 \r\nQ 47.125 51.421875 43.28125 58.90625 \r\nQ 39.453125 66.40625 31.78125 66.40625 \r\nz\r\nM 31.78125 74.21875 \r\nQ 44.046875 74.21875 50.515625 64.515625 \r\nQ 56.984375 54.828125 56.984375 36.375 \r\nQ 56.984375 17.96875 50.515625 8.265625 \r\nQ 44.046875 -1.421875 31.78125 -1.421875 \r\nQ 19.53125 -1.421875 13.0625 8.265625 \r\nQ 6.59375 17.96875 6.59375 36.375 \r\nQ 6.59375 54.828125 13.0625 64.515625 \r\nQ 19.53125 74.21875 31.78125 74.21875 \r\nz\r\n\" id=\"DejaVuSans-48\"/>\r\n       </defs>\r\n       <use xlink:href=\"#DejaVuSans-48\"/>\r\n      </g>\r\n     </g>\r\n    </g>\r\n    <g id=\"xtick_2\">\r\n     <g id=\"line2d_2\">\r\n      <g>\r\n       <use style=\"stroke:#000000;stroke-width:0.8;\" x=\"62.59875\" xlink:href=\"#m923d89749c\" y=\"226.740469\"/>\r\n      </g>\r\n     </g>\r\n     <g id=\"text_2\">\r\n      <!-- 10 -->\r\n      <g transform=\"translate(56.23625 241.338906)scale(0.1 -0.1)\">\r\n       <defs>\r\n        <path d=\"M 12.40625 8.296875 \r\nL 28.515625 8.296875 \r\nL 28.515625 63.921875 \r\nL 10.984375 60.40625 \r\nL 10.984375 69.390625 \r\nL 28.421875 72.90625 \r\nL 38.28125 72.90625 \r\nL 38.28125 8.296875 \r\nL 54.390625 8.296875 \r\nL 54.390625 0 \r\nL 12.40625 0 \r\nz\r\n\" id=\"DejaVuSans-49\"/>\r\n       </defs>\r\n       <use xlink:href=\"#DejaVuSans-49\"/>\r\n       <use x=\"63.623047\" xlink:href=\"#DejaVuSans-48\"/>\r\n      </g>\r\n     </g>\r\n    </g>\r\n    <g id=\"xtick_3\">\r\n     <g id=\"line2d_3\">\r\n      <g>\r\n       <use style=\"stroke:#000000;stroke-width:0.8;\" x=\"96.57375\" xlink:href=\"#m923d89749c\" y=\"226.740469\"/>\r\n      </g>\r\n     </g>\r\n     <g id=\"text_3\">\r\n      <!-- 20 -->\r\n      <g transform=\"translate(90.21125 241.338906)scale(0.1 -0.1)\">\r\n       <defs>\r\n        <path d=\"M 19.1875 8.296875 \r\nL 53.609375 8.296875 \r\nL 53.609375 0 \r\nL 7.328125 0 \r\nL 7.328125 8.296875 \r\nQ 12.9375 14.109375 22.625 23.890625 \r\nQ 32.328125 33.6875 34.8125 36.53125 \r\nQ 39.546875 41.84375 41.421875 45.53125 \r\nQ 43.3125 49.21875 43.3125 52.78125 \r\nQ 43.3125 58.59375 39.234375 62.25 \r\nQ 35.15625 65.921875 28.609375 65.921875 \r\nQ 23.96875 65.921875 18.8125 64.3125 \r\nQ 13.671875 62.703125 7.8125 59.421875 \r\nL 7.8125 69.390625 \r\nQ 13.765625 71.78125 18.9375 73 \r\nQ 24.125 74.21875 28.421875 74.21875 \r\nQ 39.75 74.21875 46.484375 68.546875 \r\nQ 53.21875 62.890625 53.21875 53.421875 \r\nQ 53.21875 48.921875 51.53125 44.890625 \r\nQ 49.859375 40.875 45.40625 35.40625 \r\nQ 44.1875 33.984375 37.640625 27.21875 \r\nQ 31.109375 20.453125 19.1875 8.296875 \r\nz\r\n\" id=\"DejaVuSans-50\"/>\r\n       </defs>\r\n       <use xlink:href=\"#DejaVuSans-50\"/>\r\n       <use x=\"63.623047\" xlink:href=\"#DejaVuSans-48\"/>\r\n      </g>\r\n     </g>\r\n    </g>\r\n    <g id=\"xtick_4\">\r\n     <g id=\"line2d_4\">\r\n      <g>\r\n       <use style=\"stroke:#000000;stroke-width:0.8;\" x=\"130.54875\" xlink:href=\"#m923d89749c\" y=\"226.740469\"/>\r\n      </g>\r\n     </g>\r\n     <g id=\"text_4\">\r\n      <!-- 30 -->\r\n      <g transform=\"translate(124.18625 241.338906)scale(0.1 -0.1)\">\r\n       <defs>\r\n        <path d=\"M 40.578125 39.3125 \r\nQ 47.65625 37.796875 51.625 33 \r\nQ 55.609375 28.21875 55.609375 21.1875 \r\nQ 55.609375 10.40625 48.1875 4.484375 \r\nQ 40.765625 -1.421875 27.09375 -1.421875 \r\nQ 22.515625 -1.421875 17.65625 -0.515625 \r\nQ 12.796875 0.390625 7.625 2.203125 \r\nL 7.625 11.71875 \r\nQ 11.71875 9.328125 16.59375 8.109375 \r\nQ 21.484375 6.890625 26.8125 6.890625 \r\nQ 36.078125 6.890625 40.9375 10.546875 \r\nQ 45.796875 14.203125 45.796875 21.1875 \r\nQ 45.796875 27.640625 41.28125 31.265625 \r\nQ 36.765625 34.90625 28.71875 34.90625 \r\nL 20.21875 34.90625 \r\nL 20.21875 43.015625 \r\nL 29.109375 43.015625 \r\nQ 36.375 43.015625 40.234375 45.921875 \r\nQ 44.09375 48.828125 44.09375 54.296875 \r\nQ 44.09375 59.90625 40.109375 62.90625 \r\nQ 36.140625 65.921875 28.71875 65.921875 \r\nQ 24.65625 65.921875 20.015625 65.03125 \r\nQ 15.375 64.15625 9.8125 62.3125 \r\nL 9.8125 71.09375 \r\nQ 15.4375 72.65625 20.34375 73.4375 \r\nQ 25.25 74.21875 29.59375 74.21875 \r\nQ 40.828125 74.21875 47.359375 69.109375 \r\nQ 53.90625 64.015625 53.90625 55.328125 \r\nQ 53.90625 49.265625 50.4375 45.09375 \r\nQ 46.96875 40.921875 40.578125 39.3125 \r\nz\r\n\" id=\"DejaVuSans-51\"/>\r\n       </defs>\r\n       <use xlink:href=\"#DejaVuSans-51\"/>\r\n       <use x=\"63.623047\" xlink:href=\"#DejaVuSans-48\"/>\r\n      </g>\r\n     </g>\r\n    </g>\r\n    <g id=\"xtick_5\">\r\n     <g id=\"line2d_5\">\r\n      <g>\r\n       <use style=\"stroke:#000000;stroke-width:0.8;\" x=\"164.52375\" xlink:href=\"#m923d89749c\" y=\"226.740469\"/>\r\n      </g>\r\n     </g>\r\n     <g id=\"text_5\">\r\n      <!-- 40 -->\r\n      <g transform=\"translate(158.16125 241.338906)scale(0.1 -0.1)\">\r\n       <defs>\r\n        <path d=\"M 37.796875 64.3125 \r\nL 12.890625 25.390625 \r\nL 37.796875 25.390625 \r\nz\r\nM 35.203125 72.90625 \r\nL 47.609375 72.90625 \r\nL 47.609375 25.390625 \r\nL 58.015625 25.390625 \r\nL 58.015625 17.1875 \r\nL 47.609375 17.1875 \r\nL 47.609375 0 \r\nL 37.796875 0 \r\nL 37.796875 17.1875 \r\nL 4.890625 17.1875 \r\nL 4.890625 26.703125 \r\nz\r\n\" id=\"DejaVuSans-52\"/>\r\n       </defs>\r\n       <use xlink:href=\"#DejaVuSans-52\"/>\r\n       <use x=\"63.623047\" xlink:href=\"#DejaVuSans-48\"/>\r\n      </g>\r\n     </g>\r\n    </g>\r\n    <g id=\"xtick_6\">\r\n     <g id=\"line2d_6\">\r\n      <g>\r\n       <use style=\"stroke:#000000;stroke-width:0.8;\" x=\"198.49875\" xlink:href=\"#m923d89749c\" y=\"226.740469\"/>\r\n      </g>\r\n     </g>\r\n     <g id=\"text_6\">\r\n      <!-- 50 -->\r\n      <g transform=\"translate(192.13625 241.338906)scale(0.1 -0.1)\">\r\n       <defs>\r\n        <path d=\"M 10.796875 72.90625 \r\nL 49.515625 72.90625 \r\nL 49.515625 64.59375 \r\nL 19.828125 64.59375 \r\nL 19.828125 46.734375 \r\nQ 21.96875 47.46875 24.109375 47.828125 \r\nQ 26.265625 48.1875 28.421875 48.1875 \r\nQ 40.625 48.1875 47.75 41.5 \r\nQ 54.890625 34.8125 54.890625 23.390625 \r\nQ 54.890625 11.625 47.5625 5.09375 \r\nQ 40.234375 -1.421875 26.90625 -1.421875 \r\nQ 22.3125 -1.421875 17.546875 -0.640625 \r\nQ 12.796875 0.140625 7.71875 1.703125 \r\nL 7.71875 11.625 \r\nQ 12.109375 9.234375 16.796875 8.0625 \r\nQ 21.484375 6.890625 26.703125 6.890625 \r\nQ 35.15625 6.890625 40.078125 11.328125 \r\nQ 45.015625 15.765625 45.015625 23.390625 \r\nQ 45.015625 31 40.078125 35.4375 \r\nQ 35.15625 39.890625 26.703125 39.890625 \r\nQ 22.75 39.890625 18.8125 39.015625 \r\nQ 14.890625 38.140625 10.796875 36.28125 \r\nz\r\n\" id=\"DejaVuSans-53\"/>\r\n       </defs>\r\n       <use xlink:href=\"#DejaVuSans-53\"/>\r\n       <use x=\"63.623047\" xlink:href=\"#DejaVuSans-48\"/>\r\n      </g>\r\n     </g>\r\n    </g>\r\n    <g id=\"xtick_7\">\r\n     <g id=\"line2d_7\">\r\n      <g>\r\n       <use style=\"stroke:#000000;stroke-width:0.8;\" x=\"232.47375\" xlink:href=\"#m923d89749c\" y=\"226.740469\"/>\r\n      </g>\r\n     </g>\r\n     <g id=\"text_7\">\r\n      <!-- 60 -->\r\n      <g transform=\"translate(226.11125 241.338906)scale(0.1 -0.1)\">\r\n       <defs>\r\n        <path d=\"M 33.015625 40.375 \r\nQ 26.375 40.375 22.484375 35.828125 \r\nQ 18.609375 31.296875 18.609375 23.390625 \r\nQ 18.609375 15.53125 22.484375 10.953125 \r\nQ 26.375 6.390625 33.015625 6.390625 \r\nQ 39.65625 6.390625 43.53125 10.953125 \r\nQ 47.40625 15.53125 47.40625 23.390625 \r\nQ 47.40625 31.296875 43.53125 35.828125 \r\nQ 39.65625 40.375 33.015625 40.375 \r\nz\r\nM 52.59375 71.296875 \r\nL 52.59375 62.3125 \r\nQ 48.875 64.0625 45.09375 64.984375 \r\nQ 41.3125 65.921875 37.59375 65.921875 \r\nQ 27.828125 65.921875 22.671875 59.328125 \r\nQ 17.53125 52.734375 16.796875 39.40625 \r\nQ 19.671875 43.65625 24.015625 45.921875 \r\nQ 28.375 48.1875 33.59375 48.1875 \r\nQ 44.578125 48.1875 50.953125 41.515625 \r\nQ 57.328125 34.859375 57.328125 23.390625 \r\nQ 57.328125 12.15625 50.6875 5.359375 \r\nQ 44.046875 -1.421875 33.015625 -1.421875 \r\nQ 20.359375 -1.421875 13.671875 8.265625 \r\nQ 6.984375 17.96875 6.984375 36.375 \r\nQ 6.984375 53.65625 15.1875 63.9375 \r\nQ 23.390625 74.21875 37.203125 74.21875 \r\nQ 40.921875 74.21875 44.703125 73.484375 \r\nQ 48.484375 72.75 52.59375 71.296875 \r\nz\r\n\" id=\"DejaVuSans-54\"/>\r\n       </defs>\r\n       <use xlink:href=\"#DejaVuSans-54\"/>\r\n       <use x=\"63.623047\" xlink:href=\"#DejaVuSans-48\"/>\r\n      </g>\r\n     </g>\r\n    </g>\r\n   </g>\r\n   <g id=\"matplotlib.axis_2\">\r\n    <g id=\"ytick_1\">\r\n     <g id=\"line2d_8\">\r\n      <defs>\r\n       <path d=\"M 0 0 \r\nL -3.5 0 \r\n\" id=\"m4bb0478c75\" style=\"stroke:#000000;stroke-width:0.8;\"/>\r\n      </defs>\r\n      <g>\r\n       <use style=\"stroke:#000000;stroke-width:0.8;\" x=\"26.925\" xlink:href=\"#m4bb0478c75\" y=\"10.999219\"/>\r\n      </g>\r\n     </g>\r\n     <g id=\"text_8\">\r\n      <!-- 0 -->\r\n      <g transform=\"translate(13.5625 14.798437)scale(0.1 -0.1)\">\r\n       <use xlink:href=\"#DejaVuSans-48\"/>\r\n      </g>\r\n     </g>\r\n    </g>\r\n    <g id=\"ytick_2\">\r\n     <g id=\"line2d_9\">\r\n      <g>\r\n       <use style=\"stroke:#000000;stroke-width:0.8;\" x=\"26.925\" xlink:href=\"#m4bb0478c75\" y=\"44.974219\"/>\r\n      </g>\r\n     </g>\r\n     <g id=\"text_9\">\r\n      <!-- 10 -->\r\n      <g transform=\"translate(7.2 48.773437)scale(0.1 -0.1)\">\r\n       <use xlink:href=\"#DejaVuSans-49\"/>\r\n       <use x=\"63.623047\" xlink:href=\"#DejaVuSans-48\"/>\r\n      </g>\r\n     </g>\r\n    </g>\r\n    <g id=\"ytick_3\">\r\n     <g id=\"line2d_10\">\r\n      <g>\r\n       <use style=\"stroke:#000000;stroke-width:0.8;\" x=\"26.925\" xlink:href=\"#m4bb0478c75\" y=\"78.949219\"/>\r\n      </g>\r\n     </g>\r\n     <g id=\"text_10\">\r\n      <!-- 20 -->\r\n      <g transform=\"translate(7.2 82.748437)scale(0.1 -0.1)\">\r\n       <use xlink:href=\"#DejaVuSans-50\"/>\r\n       <use x=\"63.623047\" xlink:href=\"#DejaVuSans-48\"/>\r\n      </g>\r\n     </g>\r\n    </g>\r\n    <g id=\"ytick_4\">\r\n     <g id=\"line2d_11\">\r\n      <g>\r\n       <use style=\"stroke:#000000;stroke-width:0.8;\" x=\"26.925\" xlink:href=\"#m4bb0478c75\" y=\"112.924219\"/>\r\n      </g>\r\n     </g>\r\n     <g id=\"text_11\">\r\n      <!-- 30 -->\r\n      <g transform=\"translate(7.2 116.723437)scale(0.1 -0.1)\">\r\n       <use xlink:href=\"#DejaVuSans-51\"/>\r\n       <use x=\"63.623047\" xlink:href=\"#DejaVuSans-48\"/>\r\n      </g>\r\n     </g>\r\n    </g>\r\n    <g id=\"ytick_5\">\r\n     <g id=\"line2d_12\">\r\n      <g>\r\n       <use style=\"stroke:#000000;stroke-width:0.8;\" x=\"26.925\" xlink:href=\"#m4bb0478c75\" y=\"146.899219\"/>\r\n      </g>\r\n     </g>\r\n     <g id=\"text_12\">\r\n      <!-- 40 -->\r\n      <g transform=\"translate(7.2 150.698437)scale(0.1 -0.1)\">\r\n       <use xlink:href=\"#DejaVuSans-52\"/>\r\n       <use x=\"63.623047\" xlink:href=\"#DejaVuSans-48\"/>\r\n      </g>\r\n     </g>\r\n    </g>\r\n    <g id=\"ytick_6\">\r\n     <g id=\"line2d_13\">\r\n      <g>\r\n       <use style=\"stroke:#000000;stroke-width:0.8;\" x=\"26.925\" xlink:href=\"#m4bb0478c75\" y=\"180.874219\"/>\r\n      </g>\r\n     </g>\r\n     <g id=\"text_13\">\r\n      <!-- 50 -->\r\n      <g transform=\"translate(7.2 184.673437)scale(0.1 -0.1)\">\r\n       <use xlink:href=\"#DejaVuSans-53\"/>\r\n       <use x=\"63.623047\" xlink:href=\"#DejaVuSans-48\"/>\r\n      </g>\r\n     </g>\r\n    </g>\r\n    <g id=\"ytick_7\">\r\n     <g id=\"line2d_14\">\r\n      <g>\r\n       <use style=\"stroke:#000000;stroke-width:0.8;\" x=\"26.925\" xlink:href=\"#m4bb0478c75\" y=\"214.849219\"/>\r\n      </g>\r\n     </g>\r\n     <g id=\"text_14\">\r\n      <!-- 60 -->\r\n      <g transform=\"translate(7.2 218.648437)scale(0.1 -0.1)\">\r\n       <use xlink:href=\"#DejaVuSans-54\"/>\r\n       <use x=\"63.623047\" xlink:href=\"#DejaVuSans-48\"/>\r\n      </g>\r\n     </g>\r\n    </g>\r\n   </g>\r\n   <g id=\"patch_3\">\r\n    <path d=\"M 26.925 226.740469 \r\nL 26.925 9.300469 \r\n\" style=\"fill:none;stroke:#000000;stroke-linecap:square;stroke-linejoin:miter;stroke-width:0.8;\"/>\r\n   </g>\r\n   <g id=\"patch_4\">\r\n    <path d=\"M 244.365 226.740469 \r\nL 244.365 9.300469 \r\n\" style=\"fill:none;stroke:#000000;stroke-linecap:square;stroke-linejoin:miter;stroke-width:0.8;\"/>\r\n   </g>\r\n   <g id=\"patch_5\">\r\n    <path d=\"M 26.925 226.740469 \r\nL 244.365 226.740469 \r\n\" style=\"fill:none;stroke:#000000;stroke-linecap:square;stroke-linejoin:miter;stroke-width:0.8;\"/>\r\n   </g>\r\n   <g id=\"patch_6\">\r\n    <path d=\"M 26.925 9.300469 \r\nL 244.365 9.300469 \r\n\" style=\"fill:none;stroke:#000000;stroke-linecap:square;stroke-linejoin:miter;stroke-width:0.8;\"/>\r\n   </g>\r\n  </g>\r\n </g>\r\n <defs>\r\n  <clipPath id=\"pf357c16b39\">\r\n   <rect height=\"217.44\" width=\"217.44\" x=\"26.925\" y=\"9.300469\"/>\r\n  </clipPath>\r\n </defs>\r\n</svg>\r\n",
      "image/png": "[encoded data removed]"
     },
     "metadata": {
      "needs_background": "light"
     }
    }
   ],
   "source": [
    "for category in CATEGORIES:\n",
    "    path = os.path.join(DATADIR,category) # Caminho com os diretórios das letras\n",
    "    for img in os.listdir(path):\n",
    "        img_array = cv2.imread(os.path.join(path,img), cv2.IMREAD_GRAYSCALE) #Cada imagem também é convertida na escala de cinza\n",
    "        # plt.imshow(img_array, cmap=\"gray\") #OPCIONAL: Plotando imagens na escala de cinza\n",
    "        # plt.show()\n",
    "        break\n",
    "    break"
   ]
  },
  {
   "cell_type": "code",
   "execution_count": 22,
   "metadata": {},
   "outputs": [
    {
     "output_type": "stream",
     "name": "stdout",
     "text": [
      "(64, 64)\n"
     ]
    }
   ],
   "source": [
    "print(img_array.shape) #Verificando o tamanho da matriz da imagem (64x64)"
   ]
  },
  {
   "cell_type": "code",
   "execution_count": 25,
   "metadata": {},
   "outputs": [],
   "source": [
    "IMG_SIZE = 64\n",
    "\n",
    "new_array = cv2.resize(img_array,(IMG_SIZE,IMG_SIZE))\n",
    "# plt.imshow(img_array, cmap=\"gray\") #OPCIONAL: Plotando imagens na escala de cinza\n",
    "# plt.show()"
   ]
  },
  {
   "cell_type": "code",
   "execution_count": null,
   "metadata": {},
   "outputs": [],
   "source": [
    "import numpy as np\n",
    "import matplotlib.pyplot as plt\n",
    "import os\n",
    "import cv2\n",
    "\n",
    "DATADIR = \"training\" #Onde estão sendo armazenados os arquivos\n",
    "CATEGORIES = [\"A\",\"B\"] #Possibilidades de estudo"
   ]
  },
  {
   "cell_type": "code",
   "execution_count": 28,
   "metadata": {},
   "outputs": [],
   "source": [
    "training_data = []\n",
    "IMG_SIZE = 64\n",
    "\n",
    "def create_training_data():\n",
    "    for category in CATEGORIES:\n",
    "        path = os.path.join(DATADIR,category) # Caminho com os diretórios das letras\n",
    "        class_num = CATEGORIES.index(category) # Dando um número para a categoria\n",
    "        for img in os.listdir(path):\n",
    "            try:\n",
    "                img_array = cv2.imread(os.path.join(path,img), cv2.IMREAD_GRAYSCALE) #Cada imagem também é convertida na escala de cinza\n",
    "                new_array = cv2.resize(img_array,(IMG_SIZE,IMG_SIZE)) #Redimensionando a imagem\n",
    "                training_data.append([new_array,class_num]) #Inserindo a imagem e sua classificação\n",
    "            except Exception as e: #Erro que pode ocorrer ao importar imagens\n",
    "                pass\n",
    "\n",
    "create_training_data()\n"
   ]
  },
  {
   "cell_type": "code",
   "execution_count": 29,
   "metadata": {},
   "outputs": [
    {
     "output_type": "stream",
     "name": "stdout",
     "text": [
      "3348\n"
     ]
    }
   ],
   "source": [
    "print(len(training_data)) #Quantidade de dados verificados no dataset"
   ]
  },
  {
   "cell_type": "code",
   "execution_count": 31,
   "metadata": {},
   "outputs": [],
   "source": [
    "import random\n",
    "random.shuffle(training_data) #Embaralhando os dados que a rede vai usar para treinar"
   ]
  },
  {
   "cell_type": "code",
   "execution_count": 32,
   "metadata": {},
   "outputs": [
    {
     "output_type": "stream",
     "name": "stdout",
     "text": [
      "0\n0\n0\n1\n1\n1\n0\n1\n0\n1\n"
     ]
    }
   ],
   "source": [
    "for sample in training_data[:10]:\n",
    "    print(sample[1])\n",
    "\n"
   ]
  },
  {
   "cell_type": "code",
   "execution_count": 33,
   "metadata": {},
   "outputs": [],
   "source": [
    "X = [] # Features\n",
    "y = [] # Labels"
   ]
  },
  {
   "cell_type": "code",
   "execution_count": 34,
   "metadata": {},
   "outputs": [],
   "source": [
    "for features, label in training_data:\n",
    "    X.append(features)\n",
    "    y.append(label)\n",
    "\n",
    "X = np.array(X).reshape(-1, IMG_SIZE, IMG_SIZE, 1) # -1: Quantas features tem, IMG_SIZE x IMG_SIZE: tamanho da imagem, 1: indica que o canal de cores é só o cinza (3 se RGB)\n"
   ]
  },
  {
   "cell_type": "code",
   "execution_count": null,
   "metadata": {},
   "outputs": [],
   "source": []
  }
 ]
}