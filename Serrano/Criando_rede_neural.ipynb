{
 "metadata": {
  "language_info": {
   "codemirror_mode": {
    "name": "ipython",
    "version": 3
   },
   "file_extension": ".py",
   "mimetype": "text/x-python",
   "name": "python",
   "nbconvert_exporter": "python",
   "pygments_lexer": "ipython3",
   "version": "3.8.5-final"
  },
  "orig_nbformat": 2,
  "kernelspec": {
   "name": "Python 3.8.5 64-bit",
   "display_name": "Python 3.8.5 64-bit",
   "metadata": {
    "interpreter": {
     "hash": "cb493916db9ca62219d4091c22f4f5d93322db264ff32299b4ab50c45f1c9e31"
    }
   }
  }
 },
 "nbformat": 4,
 "nbformat_minor": 2,
 "cells": [
  {
   "cell_type": "code",
   "execution_count": 51,
   "metadata": {},
   "outputs": [],
   "source": [
    "import tensorflow as tf\n",
    "from tensorflow.keras.models import Sequential # Modelo Sequencial\n",
    "from tensorflow.keras.layers import Dense, Dropout, Activation, Flatten, Conv2D, MaxPooling2D\n",
    "from tensorflow.keras.callbacks import TensorBoard # Para visualização do Modelo da Rede Neural\n",
    "import pickle\n",
    "import numpy as np"
   ]
  },
  {
   "cell_type": "code",
   "execution_count": 53,
   "metadata": {},
   "outputs": [],
   "source": [
    "import time\n",
    "\n",
    "NAME = 'Verificação_de_letras-cnn-64x2-{}'.format(int(time.time()))\n",
    "\n",
    "tensorboard = TensorBoard(log_dir = 'logs/{}'.format(NAME)) # Para ter uma visualização do treinamento da rede neural\n",
    "\n",
    "#  tensorboard --logdir=logs/"
   ]
  },
  {
   "cell_type": "code",
   "execution_count": 58,
   "metadata": {},
   "outputs": [],
   "source": [
    "pickle_in = open(\"X.pickle\",\"rb\")\n",
    "X = np.array(pickle.load(pickle_in))\n",
    "\n",
    "pickle_in = open(\"y.pickle\",\"rb\")\n",
    "y = np.array(pickle.load(pickle_in))"
   ]
  },
  {
   "cell_type": "code",
   "execution_count": 55,
   "metadata": {},
   "outputs": [],
   "source": [
    "X = np.array(X/255.0) #Simplificando coloração de Pixels para valores entre 0 e 1"
   ]
  },
  {
   "cell_type": "code",
   "execution_count": 56,
   "metadata": {},
   "outputs": [
    {
     "output_type": "stream",
     "name": "stdout",
     "text": [
      "Epoch 1/10\n",
      " 2/95 [..............................] - ETA: 49s - loss: 1.5909 - accuracy: 0.5000WARNING:tensorflow:Callbacks method `on_train_batch_end` is slow compared to the batch time (batch time: 0.0790s vs `on_train_batch_end` time: 0.9769s). Check your callbacks.\n",
      "95/95 [==============================] - 10s 109ms/step - loss: 0.4458 - accuracy: 0.7965 - val_loss: 0.2234 - val_accuracy: 0.8836\n",
      "Epoch 2/10\n",
      "95/95 [==============================] - 9s 96ms/step - loss: 0.1973 - accuracy: 0.9101 - val_loss: 0.1758 - val_accuracy: 0.9104\n",
      "Epoch 3/10\n",
      "95/95 [==============================] - 10s 103ms/step - loss: 0.1537 - accuracy: 0.9376 - val_loss: 0.1373 - val_accuracy: 0.9493\n",
      "Epoch 4/10\n",
      "95/95 [==============================] - 9s 96ms/step - loss: 0.1092 - accuracy: 0.9582 - val_loss: 0.1070 - val_accuracy: 0.9582\n",
      "Epoch 5/10\n",
      "95/95 [==============================] - 9s 96ms/step - loss: 0.0792 - accuracy: 0.9738 - val_loss: 0.0870 - val_accuracy: 0.9761\n",
      "Epoch 6/10\n",
      "95/95 [==============================] - 9s 92ms/step - loss: 0.0654 - accuracy: 0.9794 - val_loss: 0.0733 - val_accuracy: 0.9701\n",
      "Epoch 7/10\n",
      "95/95 [==============================] - 9s 92ms/step - loss: 0.0505 - accuracy: 0.9844 - val_loss: 0.0534 - val_accuracy: 0.9791\n",
      "Epoch 8/10\n",
      "95/95 [==============================] - 10s 105ms/step - loss: 0.0336 - accuracy: 0.9917 - val_loss: 0.0493 - val_accuracy: 0.9821\n",
      "Epoch 9/10\n",
      "95/95 [==============================] - 11s 112ms/step - loss: 0.0256 - accuracy: 0.9947 - val_loss: 0.0366 - val_accuracy: 0.9881\n",
      "Epoch 10/10\n",
      "95/95 [==============================] - 9s 97ms/step - loss: 0.0222 - accuracy: 0.9950 - val_loss: 0.0346 - val_accuracy: 0.9910\n"
     ]
    },
    {
     "output_type": "execute_result",
     "data": {
      "text/plain": [
       "<tensorflow.python.keras.callbacks.History at 0x24d7c648be0>"
      ]
     },
     "metadata": {},
     "execution_count": 56
    }
   ],
   "source": [
    "# Primeira Layer\n",
    "model = Sequential()\n",
    "model.add(Conv2D(64,(3,3), input_shape = X.shape[1:]))\n",
    "model.add(Activation('relu'))\n",
    "model.add(MaxPooling2D(pool_size=(2,2)))\n",
    "\n",
    "# Segunda Layer\n",
    "model = Sequential()\n",
    "model.add(Conv2D(64,(3,3)))\n",
    "model.add(Activation('relu'))\n",
    "model.add(MaxPooling2D(pool_size=(2,2)))\n",
    "\n",
    "# Terceira Layer\n",
    "model.add(Flatten()) #Deixa a rede neural em 2D\n",
    "model.add(Dense(64))\n",
    "model.add(Activation('relu'))\n",
    "\n",
    "# Layer de saída\n",
    "model.add(Dense(1))\n",
    "model.add(Activation('sigmoid'))\n",
    "\n",
    "model.compile(loss = \"binary_crossentropy\", optimizer = \"adam\", metrics = ['accuracy'])\n",
    "model.fit(X, y, batch_size=32, epochs=10, validation_split=0.1, callbacks = [tensorboard])\n",
    "\n"
   ]
  },
  {
   "cell_type": "code",
   "execution_count": 57,
   "metadata": {},
   "outputs": [
    {
     "output_type": "stream",
     "name": "stdout",
     "text": [
      "INFO:tensorflow:Assets written to: treinando_rede.model\\assets\n"
     ]
    }
   ],
   "source": [
    "model.save('treinando_rede.model') # Salvando Rede Neural"
   ]
  },
  {
   "cell_type": "code",
   "execution_count": 36,
   "metadata": {},
   "outputs": [],
   "source": [
    "new_model = tf.keras.models.load_model('treinando_rede.model') # Carregando rede"
   ]
  },
  {
   "cell_type": "code",
   "execution_count": 40,
   "metadata": {},
   "outputs": [
    {
     "output_type": "error",
     "ename": "ValueError",
     "evalue": "Unrecognized arguments in `TensorBoard` Callback: {'logdir'}",
     "traceback": [
      "\u001b[1;31m---------------------------------------------------------------------------\u001b[0m",
      "\u001b[1;31mValueError\u001b[0m                                Traceback (most recent call last)",
      "\u001b[1;32m<ipython-input-40-1be20edae35e>\u001b[0m in \u001b[0;36m<module>\u001b[1;34m\u001b[0m\n\u001b[0;32m      1\u001b[0m \u001b[1;32mfrom\u001b[0m \u001b[0mtensorflow\u001b[0m\u001b[1;33m.\u001b[0m\u001b[0mkeras\u001b[0m\u001b[1;33m.\u001b[0m\u001b[0mcallbacks\u001b[0m \u001b[1;32mimport\u001b[0m \u001b[0mTensorBoard\u001b[0m\u001b[1;33m\u001b[0m\u001b[1;33m\u001b[0m\u001b[0m\n\u001b[0;32m      2\u001b[0m \u001b[1;33m\u001b[0m\u001b[0m\n\u001b[1;32m----> 3\u001b[1;33m \u001b[0mtensorboard\u001b[0m \u001b[1;33m=\u001b[0m \u001b[0mTensorBoard\u001b[0m\u001b[1;33m(\u001b[0m\u001b[0mlogdir\u001b[0m \u001b[1;33m=\u001b[0m \u001b[1;34m'logs/{}'\u001b[0m\u001b[1;33m.\u001b[0m\u001b[0mformat\u001b[0m\u001b[1;33m(\u001b[0m\u001b[0mNAME\u001b[0m\u001b[1;33m)\u001b[0m\u001b[1;33m)\u001b[0m\u001b[1;33m\u001b[0m\u001b[1;33m\u001b[0m\u001b[0m\n\u001b[0m\u001b[0;32m      4\u001b[0m \u001b[1;33m\u001b[0m\u001b[0m\n",
      "\u001b[1;32m~\\AppData\\Local\\Programs\\Python\\Python38\\lib\\site-packages\\tensorflow\\python\\keras\\callbacks.py\u001b[0m in \u001b[0;36m__init__\u001b[1;34m(self, log_dir, histogram_freq, write_graph, write_images, update_freq, profile_batch, embeddings_freq, embeddings_metadata, **kwargs)\u001b[0m\n\u001b[0;32m   1917\u001b[0m     \u001b[0msuper\u001b[0m\u001b[1;33m(\u001b[0m\u001b[0mTensorBoard\u001b[0m\u001b[1;33m,\u001b[0m \u001b[0mself\u001b[0m\u001b[1;33m)\u001b[0m\u001b[1;33m.\u001b[0m\u001b[0m__init__\u001b[0m\u001b[1;33m(\u001b[0m\u001b[1;33m)\u001b[0m\u001b[1;33m\u001b[0m\u001b[1;33m\u001b[0m\u001b[0m\n\u001b[0;32m   1918\u001b[0m     \u001b[0mself\u001b[0m\u001b[1;33m.\u001b[0m\u001b[0m_supports_tf_logs\u001b[0m \u001b[1;33m=\u001b[0m \u001b[1;32mTrue\u001b[0m\u001b[1;33m\u001b[0m\u001b[1;33m\u001b[0m\u001b[0m\n\u001b[1;32m-> 1919\u001b[1;33m     \u001b[0mself\u001b[0m\u001b[1;33m.\u001b[0m\u001b[0m_validate_kwargs\u001b[0m\u001b[1;33m(\u001b[0m\u001b[0mkwargs\u001b[0m\u001b[1;33m)\u001b[0m\u001b[1;33m\u001b[0m\u001b[1;33m\u001b[0m\u001b[0m\n\u001b[0m\u001b[0;32m   1920\u001b[0m \u001b[1;33m\u001b[0m\u001b[0m\n\u001b[0;32m   1921\u001b[0m     \u001b[0mself\u001b[0m\u001b[1;33m.\u001b[0m\u001b[0mlog_dir\u001b[0m \u001b[1;33m=\u001b[0m \u001b[0mpath_to_string\u001b[0m\u001b[1;33m(\u001b[0m\u001b[0mlog_dir\u001b[0m\u001b[1;33m)\u001b[0m\u001b[1;33m\u001b[0m\u001b[1;33m\u001b[0m\u001b[0m\n",
      "\u001b[1;32m~\\AppData\\Local\\Programs\\Python\\Python38\\lib\\site-packages\\tensorflow\\python\\keras\\callbacks.py\u001b[0m in \u001b[0;36m_validate_kwargs\u001b[1;34m(self, kwargs)\u001b[0m\n\u001b[0;32m   1961\u001b[0m     \u001b[1;31m# Only allow kwargs that were supported in V1.\u001b[0m\u001b[1;33m\u001b[0m\u001b[1;33m\u001b[0m\u001b[1;33m\u001b[0m\u001b[0m\n\u001b[0;32m   1962\u001b[0m     \u001b[1;32mif\u001b[0m \u001b[0munrecognized_kwargs\u001b[0m\u001b[1;33m:\u001b[0m\u001b[1;33m\u001b[0m\u001b[1;33m\u001b[0m\u001b[0m\n\u001b[1;32m-> 1963\u001b[1;33m       raise ValueError('Unrecognized arguments in `TensorBoard` '\n\u001b[0m\u001b[0;32m   1964\u001b[0m                        'Callback: ' + str(unrecognized_kwargs))\n\u001b[0;32m   1965\u001b[0m \u001b[1;33m\u001b[0m\u001b[0m\n",
      "\u001b[1;31mValueError\u001b[0m: Unrecognized arguments in `TensorBoard` Callback: {'logdir'}"
     ]
    }
   ],
   "source": [
    "\n",
    "\n",
    "\n",
    "\n"
   ]
  },
  {
   "cell_type": "code",
   "execution_count": null,
   "metadata": {},
   "outputs": [],
   "source": []
  }
 ]
}