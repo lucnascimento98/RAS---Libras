{
 "metadata": {
  "language_info": {
   "codemirror_mode": {
    "name": "ipython",
    "version": 3
   },
   "file_extension": ".py",
   "mimetype": "text/x-python",
   "name": "python",
   "nbconvert_exporter": "python",
   "pygments_lexer": "ipython3",
   "version": "3.8.5-final"
  },
  "orig_nbformat": 2,
  "kernelspec": {
   "name": "Python 3.8.5 64-bit",
   "display_name": "Python 3.8.5 64-bit",
   "metadata": {
    "interpreter": {
     "hash": "cb493916db9ca62219d4091c22f4f5d93322db264ff32299b4ab50c45f1c9e31"
    }
   }
  }
 },
 "nbformat": 4,
 "nbformat_minor": 2,
 "cells": [
  {
   "cell_type": "code",
   "execution_count": 2,
   "metadata": {},
   "outputs": [],
   "source": [
    "import tensorflow as tf\n",
    "from tensorflow.keras.models import Sequential # Modelo Sequencial\n",
    "from tensorflow.keras.layers import Dense, Dropout, Activation, Flatten, Conv2D, MaxPooling2D\n",
    "from tensorflow.keras.callbacks import TensorBoard # Para visualização do Modelo da Rede Neural\n",
    "import pickle\n",
    "import numpy as np"
   ]
  },
  {
   "cell_type": "code",
   "execution_count": 3,
   "metadata": {},
   "outputs": [],
   "source": [
    "import time\n",
    "\n",
    "NAME = 'Verificação_de_letras-cnn-64x2-{}'.format(int(time.time()))\n",
    "\n",
    "tensorboard = TensorBoard(log_dir = 'logs/{}'.format(NAME)) # Para ter uma visualização do treinamento da rede neural\n",
    "\n",
    "#  tensorboard --logdir=logs/"
   ]
  },
  {
   "cell_type": "code",
   "execution_count": 4,
   "metadata": {},
   "outputs": [],
   "source": [
    "pickle_in = open(\"X.pickle\",\"rb\")\n",
    "X = np.array(pickle.load(pickle_in))\n",
    "\n",
    "pickle_in = open(\"y.pickle\",\"rb\")\n",
    "y = np.array(pickle.load(pickle_in))"
   ]
  },
  {
   "cell_type": "code",
   "execution_count": 5,
   "metadata": {},
   "outputs": [],
   "source": [
    "X = np.array(X/255.0) #Simplificando coloração de Pixels para valores entre 0 e 1"
   ]
  },
  {
   "cell_type": "code",
   "execution_count": 6,
   "metadata": {},
   "outputs": [
    {
     "output_type": "stream",
     "name": "stdout",
     "text": [
      "Epoch 1/10\n",
      " 1/95 [..............................] - ETA: 0s - loss: 0.6952 - accuracy: 0.5625WARNING:tensorflow:From C:\\Users\\Lucas_ccujizf\\AppData\\Local\\Programs\\Python\\Python38\\lib\\site-packages\\tensorflow\\python\\ops\\summary_ops_v2.py:1277: stop (from tensorflow.python.eager.profiler) is deprecated and will be removed after 2020-07-01.\n",
      "Instructions for updating:\n",
      "use `tf.profiler.experimental.stop` instead.\n",
      " 2/95 [..............................] - ETA: 23s - loss: 1.1454 - accuracy: 0.5000WARNING:tensorflow:Callbacks method `on_train_batch_end` is slow compared to the batch time (batch time: 0.0760s vs `on_train_batch_end` time: 0.4311s). Check your callbacks.\n",
      "95/95 [==============================] - 8s 86ms/step - loss: 0.4237 - accuracy: 0.8088 - val_loss: 0.1779 - val_accuracy: 0.9284\n",
      "Epoch 2/10\n",
      "95/95 [==============================] - 8s 82ms/step - loss: 0.1704 - accuracy: 0.9313 - val_loss: 0.1204 - val_accuracy: 0.9522\n",
      "Epoch 3/10\n",
      "95/95 [==============================] - 8s 80ms/step - loss: 0.1152 - accuracy: 0.9582 - val_loss: 0.0879 - val_accuracy: 0.9701\n",
      "Epoch 4/10\n",
      "95/95 [==============================] - 9s 91ms/step - loss: 0.0957 - accuracy: 0.9632 - val_loss: 0.0747 - val_accuracy: 0.9791\n",
      "Epoch 5/10\n",
      "95/95 [==============================] - 9s 96ms/step - loss: 0.0676 - accuracy: 0.9791 - val_loss: 0.0638 - val_accuracy: 0.9791\n",
      "Epoch 6/10\n",
      "95/95 [==============================] - 9s 96ms/step - loss: 0.0371 - accuracy: 0.9920 - val_loss: 0.0486 - val_accuracy: 0.9791\n",
      "Epoch 7/10\n",
      "95/95 [==============================] - 9s 92ms/step - loss: 0.0251 - accuracy: 0.9957 - val_loss: 0.0381 - val_accuracy: 0.9881\n",
      "Epoch 8/10\n",
      "95/95 [==============================] - 9s 97ms/step - loss: 0.0204 - accuracy: 0.9970 - val_loss: 0.0395 - val_accuracy: 0.9821\n",
      "Epoch 9/10\n",
      "95/95 [==============================] - 9s 94ms/step - loss: 0.0160 - accuracy: 0.9980 - val_loss: 0.0286 - val_accuracy: 0.9910\n",
      "Epoch 10/10\n",
      "95/95 [==============================] - 8s 87ms/step - loss: 0.0088 - accuracy: 0.9990 - val_loss: 0.0345 - val_accuracy: 0.9851\n"
     ]
    },
    {
     "output_type": "execute_result",
     "data": {
      "text/plain": [
       "<tensorflow.python.keras.callbacks.History at 0x206caf36640>"
      ]
     },
     "metadata": {},
     "execution_count": 6
    }
   ],
   "source": [
    "# Primeira Layer\n",
    "model = Sequential()\n",
    "model.add(Conv2D(64,(3,3), input_shape = X.shape[1:]))\n",
    "model.add(Activation('relu'))\n",
    "model.add(MaxPooling2D(pool_size=(2,2)))\n",
    "\n",
    "# Segunda Layer\n",
    "model = Sequential()\n",
    "model.add(Conv2D(64,(3,3)))\n",
    "model.add(Activation('relu'))\n",
    "model.add(MaxPooling2D(pool_size=(2,2)))\n",
    "\n",
    "# Terceira Layer\n",
    "model.add(Flatten()) #Deixa a rede neural em 2D\n",
    "model.add(Dense(64))\n",
    "model.add(Activation('relu'))\n",
    "\n",
    "# Layer de saída\n",
    "model.add(Dense(1))\n",
    "model.add(Activation('sigmoid'))\n",
    "\n",
    "model.compile(loss = \"binary_crossentropy\", optimizer = \"adam\", metrics = ['accuracy'])\n",
    "model.fit(X, y, batch_size=32, epochs=10, validation_split=0.1, callbacks = [tensorboard])\n",
    "\n"
   ]
  },
  {
   "cell_type": "code",
   "execution_count": 7,
   "metadata": {},
   "outputs": [
    {
     "output_type": "stream",
     "name": "stdout",
     "text": [
      "WARNING:tensorflow:From C:\\Users\\Lucas_ccujizf\\AppData\\Local\\Programs\\Python\\Python38\\lib\\site-packages\\tensorflow\\python\\training\\tracking\\tracking.py:111: Model.state_updates (from tensorflow.python.keras.engine.training) is deprecated and will be removed in a future version.\n",
      "Instructions for updating:\n",
      "This property should not be used in TensorFlow 2.0, as updates are applied automatically.\n",
      "WARNING:tensorflow:From C:\\Users\\Lucas_ccujizf\\AppData\\Local\\Programs\\Python\\Python38\\lib\\site-packages\\tensorflow\\python\\training\\tracking\\tracking.py:111: Layer.updates (from tensorflow.python.keras.engine.base_layer) is deprecated and will be removed in a future version.\n",
      "Instructions for updating:\n",
      "This property should not be used in TensorFlow 2.0, as updates are applied automatically.\n",
      "INFO:tensorflow:Assets written to: treinando_rede.model\\assets\n"
     ]
    }
   ],
   "source": [
    "model.save('treinando_rede.model') # Salvando Rede Neural"
   ]
  },
  {
   "cell_type": "code",
   "execution_count": 8,
   "metadata": {},
   "outputs": [],
   "source": [
    "new_model = tf.keras.models.load_model('treinando_rede.model') # Carregando rede"
   ]
  },
  {
   "cell_type": "code",
   "execution_count": 8,
   "metadata": {},
   "outputs": [],
   "source": [
    "\n",
    "\n",
    "\n",
    "\n"
   ]
  },
  {
   "cell_type": "code",
   "execution_count": null,
   "metadata": {},
   "outputs": [],
   "source": []
  }
 ]
}