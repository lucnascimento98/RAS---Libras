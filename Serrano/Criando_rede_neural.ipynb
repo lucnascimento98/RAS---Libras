{
 "metadata": {
  "language_info": {
   "codemirror_mode": {
    "name": "ipython",
    "version": 3
   },
   "file_extension": ".py",
   "mimetype": "text/x-python",
   "name": "python",
   "nbconvert_exporter": "python",
   "pygments_lexer": "ipython3",
   "version": "3.8.5-final"
  },
  "orig_nbformat": 2,
  "kernelspec": {
   "name": "Python 3.8.5 64-bit",
   "display_name": "Python 3.8.5 64-bit",
   "metadata": {
    "interpreter": {
     "hash": "cb493916db9ca62219d4091c22f4f5d93322db264ff32299b4ab50c45f1c9e31"
    }
   }
  }
 },
 "nbformat": 4,
 "nbformat_minor": 2,
 "cells": [
  {
   "cell_type": "code",
   "execution_count": 25,
   "metadata": {},
   "outputs": [],
   "source": [
    "import tensorflow as tf\n",
    "from tensorflow.keras.models import Sequential # Modelo Sequencial\n",
    "from tensorflow.keras.layers import Dense, Dropout, Activation, Flatten, Conv2D, MaxPooling2D\n",
    "import pickle\n",
    "\n",
    "import numpy as np\n",
    "\n"
   ]
  },
  {
   "cell_type": "code",
   "execution_count": 30,
   "metadata": {},
   "outputs": [],
   "source": [
    "pickle_in = open(\"X.pickle\",\"rb\")\n",
    "X = np.array(pickle.load(pickle_in))\n",
    "\n",
    "pickle_in = open(\"y.pickle\",\"rb\")\n",
    "y = np.array(pickle.load(pickle_in))"
   ]
  },
  {
   "cell_type": "code",
   "execution_count": 31,
   "metadata": {},
   "outputs": [],
   "source": [
    "X = np.array(X/255.0) #Simplificando coloração de Pixels para valores entre 0 e 1"
   ]
  },
  {
   "cell_type": "code",
   "execution_count": 32,
   "metadata": {},
   "outputs": [
    {
     "output_type": "stream",
     "name": "stdout",
     "text": [
      "Epoch 1/3\n",
      "95/95 [==============================] - 10s 110ms/step - loss: 0.9355 - accuracy: 0.8092 - val_loss: 0.1690 - val_accuracy: 0.9373\n",
      "Epoch 2/3\n",
      "95/95 [==============================] - 9s 99ms/step - loss: 0.1333 - accuracy: 0.9502 - val_loss: 0.1100 - val_accuracy: 0.9522\n",
      "Epoch 3/3\n",
      "95/95 [==============================] - 10s 102ms/step - loss: 0.0808 - accuracy: 0.9784 - val_loss: 0.0769 - val_accuracy: 0.9701\n"
     ]
    },
    {
     "output_type": "execute_result",
     "data": {
      "text/plain": [
       "<tensorflow.python.keras.callbacks.History at 0x24d7c8f0e20>"
      ]
     },
     "metadata": {},
     "execution_count": 32
    }
   ],
   "source": [
    "# Primeira Layer\n",
    "model = Sequential()\n",
    "model.add(Conv2D(64,(3,3), input_shape = X.shape[1:]))\n",
    "model.add(Activation('relu'))\n",
    "model.add(MaxPooling2D(pool_size=(2,2)))\n",
    "\n",
    "# Segunda Layer\n",
    "model = Sequential()\n",
    "model.add(Conv2D(64,(3,3)))\n",
    "model.add(Activation('relu'))\n",
    "model.add(MaxPooling2D(pool_size=(2,2)))\n",
    "\n",
    "# Terceira Layer\n",
    "model.add(Flatten()) #Deixa a rede neural em 2D\n",
    "model.add(Dense(64))\n",
    "\n",
    "# Layer de saída\n",
    "model.add(Dense(1))\n",
    "model.add(Activation('sigmoid'))\n",
    "\n",
    "model.compile(loss = \"binary_crossentropy\", optimizer = \"adam\", metrics = ['accuracy'])\n",
    "model.fit(X, y, batch_size=32, epochs=3, validation_split=0.1)\n",
    "\n"
   ]
  },
  {
   "cell_type": "code",
   "execution_count": null,
   "metadata": {},
   "outputs": [],
   "source": []
  }
 ]
}