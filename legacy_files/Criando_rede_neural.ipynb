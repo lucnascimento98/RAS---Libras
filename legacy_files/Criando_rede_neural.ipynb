{
 "metadata": {
  "language_info": {
   "codemirror_mode": {
    "name": "ipython",
    "version": 3
   },
   "file_extension": ".py",
   "mimetype": "text/x-python",
   "name": "python",
   "nbconvert_exporter": "python",
   "pygments_lexer": "ipython3",
   "version": "3.8.5-final"
  },
  "orig_nbformat": 2,
  "kernelspec": {
   "name": "Python 3.8.5 64-bit",
   "display_name": "Python 3.8.5 64-bit",
   "metadata": {
    "interpreter": {
     "hash": "cb493916db9ca62219d4091c22f4f5d93322db264ff32299b4ab50c45f1c9e31"
    }
   }
  }
 },
 "nbformat": 4,
 "nbformat_minor": 2,
 "cells": [
  {
   "cell_type": "code",
   "execution_count": 1,
   "metadata": {},
   "outputs": [],
   "source": [
    "import tensorflow as tf\n",
    "from tensorflow.keras.models import Sequential # Modelo Sequencial\n",
    "from tensorflow.keras.layers import Dense, Dropout, Activation, Flatten, Conv2D, MaxPooling2D\n",
    "from tensorflow.keras.callbacks import TensorBoard # Para visualização do Modelo da Rede Neural\n",
    "import pickle\n",
    "import numpy as np"
   ]
  },
  {
   "cell_type": "code",
   "execution_count": 4,
   "metadata": {},
   "outputs": [],
   "source": [
    "import time\n",
    "\n",
    "NAME = 'Verificação_de_letras-cnn-64x2-{}'.format(int(time.time()))\n",
    "\n",
    "tensorboard = TensorBoard(log_dir = 'logs/{}'.format(NAME)) # Para ter uma visualização do treinamento da rede neural\n",
    "\n",
    "#  tensorboard --logdir=logs/"
   ]
  },
  {
   "cell_type": "code",
   "execution_count": 5,
   "metadata": {},
   "outputs": [],
   "source": [
    "pickle_in = open(\"X.pickle\",\"rb\")\n",
    "X = np.array(pickle.load(pickle_in))\n",
    "\n",
    "pickle_in = open(\"y.pickle\",\"rb\")\n",
    "y = np.array(pickle.load(pickle_in))"
   ]
  },
  {
   "cell_type": "code",
   "execution_count": 6,
   "metadata": {},
   "outputs": [],
   "source": [
    "X = np.array(X/255.0) #Simplificando coloração de Pixels para valores entre 0 e 1"
   ]
  },
  {
   "cell_type": "code",
   "execution_count": 7,
   "metadata": {},
   "outputs": [
    {
     "output_type": "stream",
     "name": "stdout",
     "text": [
      "Epoch 1/10\n",
      " 1/95 [..............................] - ETA: 0s - loss: 0.6943 - accuracy: 0.5312WARNING:tensorflow:From C:\\Users\\Lucas_ccujizf\\AppData\\Local\\Programs\\Python\\Python38\\lib\\site-packages\\tensorflow\\python\\ops\\summary_ops_v2.py:1277: stop (from tensorflow.python.eager.profiler) is deprecated and will be removed after 2020-07-01.\n",
      "Instructions for updating:\n",
      "use `tf.profiler.experimental.stop` instead.\n",
      " 2/95 [..............................] - ETA: 26s - loss: 0.7579 - accuracy: 0.4688WARNING:tensorflow:Callbacks method `on_train_batch_end` is slow compared to the batch time (batch time: 0.1225s vs `on_train_batch_end` time: 0.4450s). Check your callbacks.\n",
      "95/95 [==============================] - 11s 117ms/step - loss: 0.3779 - accuracy: 0.8171 - val_loss: 0.1523 - val_accuracy: 0.9403\n",
      "Epoch 2/10\n",
      "95/95 [==============================] - 11s 116ms/step - loss: 0.1621 - accuracy: 0.9310 - val_loss: 0.1087 - val_accuracy: 0.9493\n",
      "Epoch 3/10\n",
      "95/95 [==============================] - 11s 112ms/step - loss: 0.1187 - accuracy: 0.9519 - val_loss: 0.1718 - val_accuracy: 0.9194\n",
      "Epoch 4/10\n",
      "95/95 [==============================] - 10s 109ms/step - loss: 0.1055 - accuracy: 0.9595 - val_loss: 0.0627 - val_accuracy: 0.9761\n",
      "Epoch 5/10\n",
      "95/95 [==============================] - 10s 108ms/step - loss: 0.0589 - accuracy: 0.9801 - val_loss: 0.0497 - val_accuracy: 0.9821\n",
      "Epoch 6/10\n",
      "95/95 [==============================] - 11s 112ms/step - loss: 0.0429 - accuracy: 0.9887 - val_loss: 0.0445 - val_accuracy: 0.9791\n",
      "Epoch 7/10\n",
      "95/95 [==============================] - 10s 105ms/step - loss: 0.0273 - accuracy: 0.9947 - val_loss: 0.0321 - val_accuracy: 0.9910\n",
      "Epoch 8/10\n",
      "95/95 [==============================] - 11s 111ms/step - loss: 0.0201 - accuracy: 0.9967 - val_loss: 0.0307 - val_accuracy: 0.9910\n",
      "Epoch 9/10\n",
      "95/95 [==============================] - 11s 113ms/step - loss: 0.0159 - accuracy: 0.9983 - val_loss: 0.0311 - val_accuracy: 0.9940\n",
      "Epoch 10/10\n",
      "95/95 [==============================] - 11s 111ms/step - loss: 0.0117 - accuracy: 0.9990 - val_loss: 0.0278 - val_accuracy: 0.9881\n"
     ]
    },
    {
     "output_type": "execute_result",
     "data": {
      "text/plain": [
       "<tensorflow.python.keras.callbacks.History at 0x25ae01856a0>"
      ]
     },
     "metadata": {},
     "execution_count": 7
    }
   ],
   "source": [
    "# Primeira Layer\n",
    "model = Sequential()\n",
    "model.add(Conv2D(64,(3,3), input_shape = X.shape[1:]))\n",
    "model.add(Activation('relu'))\n",
    "model.add(MaxPooling2D(pool_size=(2,2)))\n",
    "\n",
    "# Segunda Layer\n",
    "model = Sequential()\n",
    "model.add(Conv2D(64,(3,3)))\n",
    "model.add(Activation('relu'))\n",
    "model.add(MaxPooling2D(pool_size=(2,2)))\n",
    "\n",
    "# Terceira Layer\n",
    "model.add(Flatten()) #Deixa a rede neural em 2D\n",
    "model.add(Dense(64))\n",
    "model.add(Activation('relu'))\n",
    "\n",
    "# Layer de saída\n",
    "model.add(Dense(1))\n",
    "model.add(Activation('sigmoid'))\n",
    "\n",
    "model.compile(loss = \"binary_crossentropy\", optimizer = \"adam\", metrics = ['accuracy'])\n",
    "model.fit(X, y, batch_size=32, epochs=10, validation_split=0.1, callbacks = [tensorboard])\n",
    "\n"
   ]
  },
  {
   "cell_type": "code",
   "execution_count": 7,
   "metadata": {},
   "outputs": [
    {
     "output_type": "stream",
     "name": "stdout",
     "text": [
      "WARNING:tensorflow:From C:\\Users\\Lucas_ccujizf\\AppData\\Local\\Programs\\Python\\Python38\\lib\\site-packages\\tensorflow\\python\\training\\tracking\\tracking.py:111: Model.state_updates (from tensorflow.python.keras.engine.training) is deprecated and will be removed in a future version.\n",
      "Instructions for updating:\n",
      "This property should not be used in TensorFlow 2.0, as updates are applied automatically.\n",
      "WARNING:tensorflow:From C:\\Users\\Lucas_ccujizf\\AppData\\Local\\Programs\\Python\\Python38\\lib\\site-packages\\tensorflow\\python\\training\\tracking\\tracking.py:111: Layer.updates (from tensorflow.python.keras.engine.base_layer) is deprecated and will be removed in a future version.\n",
      "Instructions for updating:\n",
      "This property should not be used in TensorFlow 2.0, as updates are applied automatically.\n",
      "INFO:tensorflow:Assets written to: treinando_rede.model\\assets\n"
     ]
    }
   ],
   "source": [
    "model.save('treinando_rede.model') # Salvando Rede Neural"
   ]
  },
  {
   "cell_type": "code",
   "execution_count": 8,
   "metadata": {},
   "outputs": [],
   "source": [
    "new_model = tf.keras.models.load_model('treinando_rede.model') # Carregando rede"
   ]
  },
  {
   "cell_type": "code",
   "execution_count": 8,
   "metadata": {},
   "outputs": [],
   "source": [
    "\n",
    "\n",
    "\n",
    "\n"
   ]
  },
  {
   "cell_type": "code",
   "execution_count": null,
   "metadata": {},
   "outputs": [],
   "source": []
  }
 ]
}